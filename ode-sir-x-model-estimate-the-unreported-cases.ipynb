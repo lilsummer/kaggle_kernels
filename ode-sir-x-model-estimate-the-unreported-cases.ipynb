{
 "cells": [
  {
   "cell_type": "markdown",
   "metadata": {},
   "source": [
    "# Table of Contents\n",
    "\n",
    "#### [Reference Papar and Analysis](#tag1)\n",
    "\n",
    "#### [Ordinary Differential Equation](#tag2)\n",
    "\n",
    "#### [How Many were Unreported?](#tag3)\n",
    "\n",
    "#### More to come..."
   ]
  },
  {
   "cell_type": "markdown",
   "metadata": {},
   "source": [
    "## Let's not forget these are people, not just numbers..."
   ]
  },
  {
   "cell_type": "markdown",
   "metadata": {},
   "source": [
    "After reading this [paper](https://arxiv.org/pdf/2002.07572.pdf) by *Benjamin F. Maier*, I wanted to see if I can replicate the results and validate with real data. Furthermore, I want to see how many cases were unreported. Please note that there are multiple reasons to explain the unreported cases, including:\n",
    "\n",
    "* Unable to identify/ diagnose the patients given the untypical symptoms;\n",
    "* Unable to effectively sample the patients;\n",
    "* PCR (polymerease chain reaction) results were false negative;\n",
    "* Low test capacity, etc\n",
    "\n",
    "This analysis is not intended to understand why there were unreported cases but rather to quantify how many cases were unidentified. I also cannot guarantee that I've understood the paper to 100%, so please let me know your thoughts!"
   ]
  },
  {
   "cell_type": "code",
   "execution_count": 1,
   "metadata": {},
   "outputs": [],
   "source": [
    "%matplotlib inline\n",
    "import matplotlib.pyplot as plt\n",
    "# import networkx as nx\n",
    "# import ndlib.models.epidemics as ep\n",
    "import os\n",
    "import pandas as pd\n",
    "import numpy as np\n",
    "from scipy.integrate import odeint\n",
    "from scipy.optimize import fsolve\n",
    "from scipy.integrate import simps\n",
    "from numpy import trapz\n",
    "plt.style.use('ggplot')"
   ]
  },
  {
   "cell_type": "markdown",
   "metadata": {},
   "source": [
    "<a id='tag1'></a>\n",
    "## Reference Paper and Analysis"
   ]
  },
  {
   "cell_type": "markdown",
   "metadata": {},
   "source": [
    "Here I copied the major equation from the original paper. Instead of SIR (susceptible, infectious, and recovered) model, the author used a **SIR-X** model, **X is the number of quarantined people**. To quantify the degree of public health measures to control the disease, there are several variables introduced:\n",
    "\n",
    "\n",
    "* $\\kappa_{0}$: containment rate, when it is zero, it corresponds to a scenario in which general population is unaffected by policies or does not commit behavior changes\n",
    "\n",
    "* $\\kappa$: isolation rate, which indicates the rate of infected being removed from the population, when it is zero, it corresponds to a scenario in which symptomatic infecteds are not isolated specifically.\n",
    "\n",
    "* $\\alpha$: infection rate\n",
    "\n",
    "* $\\beta$: recovery rate"
   ]
  },
  {
   "cell_type": "markdown",
   "metadata": {},
   "source": [
    "The system of differential equations are as follows (see page 3 of the paper):\n",
    "\n",
    "$$\\partial_{t}S = -\\alpha SI - \\kappa_{0}S$$\n",
    "$$\\partial_{t}I = \\alpha SI - \\beta I -\\kappa_{0}I - \\kappa I$$\n",
    "$$\\partial_{t}X =(\\kappa + \\kappa_{0})I$$"
   ]
  },
  {
   "cell_type": "markdown",
   "metadata": {},
   "source": [
    "Apart from that, the author used **free R_0 and effective R_0**, to differentiate the efficiency of transmission under different environments ($R_{0}$ can change depending on the environment)"
   ]
  },
  {
   "cell_type": "markdown",
   "metadata": {},
   "source": [
    "<a id='tag2'></a>\n",
    "## Ordinary Differential Equation"
   ]
  },
  {
   "cell_type": "markdown",
   "metadata": {},
   "source": [
    "Before we tried to use ODE to solve the system, we need to determine a few parameters. We first chose to model based on paramters listed on *Table 1* of the paper."
   ]
  },
  {
   "cell_type": "code",
   "execution_count": 2,
   "metadata": {},
   "outputs": [
    {
     "name": "stdout",
     "output_type": "stream",
     "text": [
      "alpha: 0.775 beta: 0.125\n"
     ]
    }
   ],
   "source": [
    "## refer to table 1, Hubei\n",
    "r_0_theory = 6.2\n",
    "r_0_eff  = 3.28\n",
    "\n",
    "## T_i is the time between infection and quanrantine\n",
    "T_i_theory = 8\n",
    "alpha = r_0_theory / T_i_theory\n",
    "\n",
    "## \n",
    "beta = alpha/r_0_theory\n",
    "print('alpha:', alpha, 'beta:', beta)\n"
   ]
  },
  {
   "cell_type": "markdown",
   "metadata": {},
   "source": [
    "Now we will use a system of equations to solve $\\kappa$ and $\\kappa_{0}$"
   ]
  },
  {
   "cell_type": "code",
   "execution_count": 3,
   "metadata": {},
   "outputs": [
    {
     "name": "stdout",
     "output_type": "stream",
     "text": [
      "kappa_0:  0.07316037735849022 kappa:  0.03768867924528316\n"
     ]
    }
   ],
   "source": [
    "# Q and P are from table 1\n",
    "Q= 0.47\n",
    "P = 0.66\n",
    "def get_kapp(k):\n",
    "    kappa_0 = k[0]\n",
    "    kappa = k[1]\n",
    "    \n",
    "    F = np.empty((2))\n",
    "    F[0] = (kappa_0+ kappa)/(beta+kappa_0 + kappa) - Q\n",
    "    F[1] = kappa_0/(kappa+kappa_0) -P\n",
    "    \n",
    "    return F\n",
    "\n",
    "\n",
    "kappaGuess = np.array([1,1])\n",
    "(kappa_0, kappa) = fsolve(get_kapp,kappaGuess)\n",
    "print('kappa_0: ',kappa_0, 'kappa: ',kappa)"
   ]
  },
  {
   "cell_type": "markdown",
   "metadata": {},
   "source": [
    "Then here we use the equations above "
   ]
  },
  {
   "cell_type": "code",
   "execution_count": 4,
   "metadata": {},
   "outputs": [],
   "source": [
    "# solve the system dy/dt = f(y, t)\n",
    "def f(y, t):\n",
    "    S = y[0]\n",
    "    I = y[1]\n",
    "    X = y[2]\n",
    "     # the model equations (see Munz et al. 2009)\n",
    "    f0 = -alpha* S* I - kappa_0* S\n",
    "    f1 = alpha* S* I - beta* I  - kappa_0* I - kappa*I \n",
    "    f2 = (kappa + kappa_0)* I \n",
    "    return [f0, f1, f2]"
   ]
  },
  {
   "cell_type": "markdown",
   "metadata": {},
   "source": [
    "To initialize the equations, we followed the way of initialization in the paper. This includes finding the number of confirmed cases at the begining to use it to calculate $X(t_{0}), I(t_{0}) and S(t_{0})$"
   ]
  },
  {
   "cell_type": "code",
   "execution_count": 5,
   "metadata": {},
   "outputs": [],
   "source": [
    "## import data\n",
    "train = pd.read_csv('../input/covid19-global-forecasting-week-1/train.csv')\n",
    "train['Date'] = pd.to_datetime(train.Date)"
   ]
  },
  {
   "cell_type": "code",
   "execution_count": 6,
   "metadata": {},
   "outputs": [
    {
     "data": {
      "text/html": [
       "<div>\n",
       "<style scoped>\n",
       "    .dataframe tbody tr th:only-of-type {\n",
       "        vertical-align: middle;\n",
       "    }\n",
       "\n",
       "    .dataframe tbody tr th {\n",
       "        vertical-align: top;\n",
       "    }\n",
       "\n",
       "    .dataframe thead th {\n",
       "        text-align: right;\n",
       "    }\n",
       "</style>\n",
       "<table border=\"1\" class=\"dataframe\">\n",
       "  <thead>\n",
       "    <tr style=\"text-align: right;\">\n",
       "      <th></th>\n",
       "      <th>Id</th>\n",
       "      <th>Province/State</th>\n",
       "      <th>Country/Region</th>\n",
       "      <th>Lat</th>\n",
       "      <th>Long</th>\n",
       "      <th>Date</th>\n",
       "      <th>ConfirmedCases</th>\n",
       "      <th>Fatalities</th>\n",
       "    </tr>\n",
       "  </thead>\n",
       "  <tbody>\n",
       "    <tr>\n",
       "      <th>3720</th>\n",
       "      <td>5581</td>\n",
       "      <td>Hubei</td>\n",
       "      <td>China</td>\n",
       "      <td>30.9756</td>\n",
       "      <td>112.2707</td>\n",
       "      <td>2020-01-22</td>\n",
       "      <td>444.0</td>\n",
       "      <td>17.0</td>\n",
       "    </tr>\n",
       "    <tr>\n",
       "      <th>3721</th>\n",
       "      <td>5582</td>\n",
       "      <td>Hubei</td>\n",
       "      <td>China</td>\n",
       "      <td>30.9756</td>\n",
       "      <td>112.2707</td>\n",
       "      <td>2020-01-23</td>\n",
       "      <td>444.0</td>\n",
       "      <td>17.0</td>\n",
       "    </tr>\n",
       "    <tr>\n",
       "      <th>3722</th>\n",
       "      <td>5583</td>\n",
       "      <td>Hubei</td>\n",
       "      <td>China</td>\n",
       "      <td>30.9756</td>\n",
       "      <td>112.2707</td>\n",
       "      <td>2020-01-24</td>\n",
       "      <td>549.0</td>\n",
       "      <td>24.0</td>\n",
       "    </tr>\n",
       "    <tr>\n",
       "      <th>3723</th>\n",
       "      <td>5584</td>\n",
       "      <td>Hubei</td>\n",
       "      <td>China</td>\n",
       "      <td>30.9756</td>\n",
       "      <td>112.2707</td>\n",
       "      <td>2020-01-25</td>\n",
       "      <td>761.0</td>\n",
       "      <td>40.0</td>\n",
       "    </tr>\n",
       "    <tr>\n",
       "      <th>3724</th>\n",
       "      <td>5585</td>\n",
       "      <td>Hubei</td>\n",
       "      <td>China</td>\n",
       "      <td>30.9756</td>\n",
       "      <td>112.2707</td>\n",
       "      <td>2020-01-26</td>\n",
       "      <td>1058.0</td>\n",
       "      <td>52.0</td>\n",
       "    </tr>\n",
       "    <tr>\n",
       "      <th>3725</th>\n",
       "      <td>5586</td>\n",
       "      <td>Hubei</td>\n",
       "      <td>China</td>\n",
       "      <td>30.9756</td>\n",
       "      <td>112.2707</td>\n",
       "      <td>2020-01-27</td>\n",
       "      <td>1423.0</td>\n",
       "      <td>76.0</td>\n",
       "    </tr>\n",
       "    <tr>\n",
       "      <th>3726</th>\n",
       "      <td>5587</td>\n",
       "      <td>Hubei</td>\n",
       "      <td>China</td>\n",
       "      <td>30.9756</td>\n",
       "      <td>112.2707</td>\n",
       "      <td>2020-01-28</td>\n",
       "      <td>3554.0</td>\n",
       "      <td>125.0</td>\n",
       "    </tr>\n",
       "    <tr>\n",
       "      <th>3727</th>\n",
       "      <td>5588</td>\n",
       "      <td>Hubei</td>\n",
       "      <td>China</td>\n",
       "      <td>30.9756</td>\n",
       "      <td>112.2707</td>\n",
       "      <td>2020-01-29</td>\n",
       "      <td>3554.0</td>\n",
       "      <td>125.0</td>\n",
       "    </tr>\n",
       "    <tr>\n",
       "      <th>3728</th>\n",
       "      <td>5589</td>\n",
       "      <td>Hubei</td>\n",
       "      <td>China</td>\n",
       "      <td>30.9756</td>\n",
       "      <td>112.2707</td>\n",
       "      <td>2020-01-30</td>\n",
       "      <td>4903.0</td>\n",
       "      <td>162.0</td>\n",
       "    </tr>\n",
       "    <tr>\n",
       "      <th>3729</th>\n",
       "      <td>5590</td>\n",
       "      <td>Hubei</td>\n",
       "      <td>China</td>\n",
       "      <td>30.9756</td>\n",
       "      <td>112.2707</td>\n",
       "      <td>2020-01-31</td>\n",
       "      <td>5806.0</td>\n",
       "      <td>204.0</td>\n",
       "    </tr>\n",
       "  </tbody>\n",
       "</table>\n",
       "</div>"
      ],
      "text/plain": [
       "        Id Province/State Country/Region      Lat      Long       Date  \\\n",
       "3720  5581          Hubei          China  30.9756  112.2707 2020-01-22   \n",
       "3721  5582          Hubei          China  30.9756  112.2707 2020-01-23   \n",
       "3722  5583          Hubei          China  30.9756  112.2707 2020-01-24   \n",
       "3723  5584          Hubei          China  30.9756  112.2707 2020-01-25   \n",
       "3724  5585          Hubei          China  30.9756  112.2707 2020-01-26   \n",
       "3725  5586          Hubei          China  30.9756  112.2707 2020-01-27   \n",
       "3726  5587          Hubei          China  30.9756  112.2707 2020-01-28   \n",
       "3727  5588          Hubei          China  30.9756  112.2707 2020-01-29   \n",
       "3728  5589          Hubei          China  30.9756  112.2707 2020-01-30   \n",
       "3729  5590          Hubei          China  30.9756  112.2707 2020-01-31   \n",
       "\n",
       "      ConfirmedCases  Fatalities  \n",
       "3720           444.0        17.0  \n",
       "3721           444.0        17.0  \n",
       "3722           549.0        24.0  \n",
       "3723           761.0        40.0  \n",
       "3724          1058.0        52.0  \n",
       "3725          1423.0        76.0  \n",
       "3726          3554.0       125.0  \n",
       "3727          3554.0       125.0  \n",
       "3728          4903.0       162.0  \n",
       "3729          5806.0       204.0  "
      ]
     },
     "execution_count": 6,
     "metadata": {},
     "output_type": "execute_result"
    }
   ],
   "source": [
    "train[(train['Country/Region'] == 'China')&(train['Province/State']=='Hubei')].head(10)"
   ]
  },
  {
   "cell_type": "code",
   "execution_count": 7,
   "metadata": {},
   "outputs": [],
   "source": [
    "hubei_df = train[(train['Country/Region'] == 'China')&(train['Province/State']=='Hubei')]"
   ]
  },
  {
   "cell_type": "code",
   "execution_count": 8,
   "metadata": {},
   "outputs": [
    {
     "data": {
      "text/plain": [
       "50"
      ]
     },
     "execution_count": 8,
     "metadata": {},
     "output_type": "execute_result"
    }
   ],
   "source": [
    "dti = pd.date_range('2020-01-21', '2020-03-10', freq='D')\n",
    "len(dti)"
   ]
  },
  {
   "cell_type": "code",
   "execution_count": 9,
   "metadata": {},
   "outputs": [],
   "source": [
    "## according to the paper page 6\n",
    "# initial conditions\n",
    "# use the number of cases 444\n",
    "X0 = 444/(57.1*10**6)\n",
    "I0 = 2.55*X0\n",
    "S0 = 1-I0-X0\n",
    "# initial death population\n",
    "y0 = [S0, I0, X0]     # initial condition vector\n",
    "t  = np.linspace(0, 50., 50)  # time grid\n",
    "#print(y0)\n",
    "# solve the DEs\n",
    "soln = odeint(f, y0, t)\n",
    "S = soln[:, 0]\n",
    "I = soln[:, 1]\n",
    "X = soln[:, 2]"
   ]
  },
  {
   "cell_type": "markdown",
   "metadata": {},
   "source": [
    "Now we can plot the result as below along with the overlaying of **confirmed cases from the dataset**. We also multiply the number of cases to the factor of population to match the real world data. "
   ]
  },
  {
   "cell_type": "code",
   "execution_count": 10,
   "metadata": {},
   "outputs": [
    {
     "name": "stderr",
     "output_type": "stream",
     "text": [
      "/opt/conda/lib/python3.6/site-packages/pandas/plotting/_matplotlib/converter.py:103: FutureWarning: Using an implicitly registered datetime converter for a matplotlib plotting method. The converter was registered by pandas on import. Future versions of pandas will require you to explicitly register matplotlib converters.\n",
      "\n",
      "To register the converters:\n",
      "\t>>> from pandas.plotting import register_matplotlib_converters\n",
      "\t>>> register_matplotlib_converters()\n",
      "  warnings.warn(msg, FutureWarning)\n"
     ]
    },
    {
     "data": {
      "image/png": "[encoded data removed]",
      "text/plain": [
       "<Figure size 1080x720 with 1 Axes>"
      ]
     },
     "metadata": {},
     "output_type": "display_data"
    }
   ],
   "source": [
    "# plot results\n",
    "plt.figure(figsize=(15, 10))\n",
    "plt.title('Hubei Confirmed Cases vs Model')\n",
    "#plt.plot(t, S, label='Living')\n",
    "plt.plot(dti, I*57.1*10**6/(4.44/2.55), label='Infected (I)')\n",
    "plt.plot(dti, X*57.1*10**6/(4.44/2.55), label='Quanrantined (X)')\n",
    "plt.plot(hubei_df.Date, hubei_df.ConfirmedCases, 'o')\n",
    "plt.vlines(x=pd.datetime(2020,2,7), ymin=0, ymax=70000, linestyles='dashed', color='grey')\n",
    "plt.text(x=pd.datetime(2020,2,2), text='02/07/2020', y=30000,s=10)\n",
    "plt.xlabel('Days from outbreak')\n",
    "plt.ylabel('Population')\n",
    "plt.legend(loc=0)\n",
    "plt.xticks(rotation=90)\n",
    "plt.show()"
   ]
  },
  {
   "cell_type": "markdown",
   "metadata": {},
   "source": [
    "As demonstrated in the paper: *The model predicts the expected initial growth\n",
    "of case numbers in Hubei Province followed by an algebraic\n",
    "growth episode for ≈ 11 days until the saturation sets in, a consequence of the decay of unidentified infected individuals after a peak time around Feb. 7th (see Fig. 2A).*"
   ]
  },
  {
   "cell_type": "markdown",
   "metadata": {},
   "source": [
    "<a id='tag3'></a>\n",
    "## How many cases were unreported?"
   ]
  },
  {
   "cell_type": "markdown",
   "metadata": {},
   "source": [
    "Befor quanratine measures became effective, the early infected cases were unreported. We can calculate the difference between the infection curve and confirmed cases in the same time window."
   ]
  },
  {
   "cell_type": "code",
   "execution_count": 11,
   "metadata": {},
   "outputs": [
    {
     "data": {
      "text/plain": [
       "18"
      ]
     },
     "execution_count": 11,
     "metadata": {},
     "output_type": "execute_result"
    }
   ],
   "source": [
    "len(pd.date_range('2020-01-21', '2020-02-07'))"
   ]
  },
  {
   "cell_type": "code",
   "execution_count": 12,
   "metadata": {},
   "outputs": [],
   "source": [
    "total_number_infection = (I*57.1*10**6/(4.44/2.55))[:18]"
   ]
  },
  {
   "cell_type": "code",
   "execution_count": 13,
   "metadata": {},
   "outputs": [],
   "source": [
    "total_number_confirm = hubei_df.ConfirmedCases[:18]"
   ]
  },
  {
   "cell_type": "code",
   "execution_count": 14,
   "metadata": {},
   "outputs": [],
   "source": [
    "under_report = total_number_infection - total_number_confirm"
   ]
  },
  {
   "cell_type": "code",
   "execution_count": 15,
   "metadata": {},
   "outputs": [],
   "source": [
    "under_report_pcnt = under_report/total_number_infection*100"
   ]
  },
  {
   "cell_type": "code",
   "execution_count": 16,
   "metadata": {},
   "outputs": [
    {
     "data": {
      "text/plain": [
       "0.23376732368128503"
      ]
     },
     "execution_count": 16,
     "metadata": {},
     "output_type": "execute_result"
    }
   ],
   "source": [
    "under_report.sum()/total_number_infection.sum()"
   ]
  },
  {
   "cell_type": "markdown",
   "metadata": {},
   "source": [
    "Accoding to this calculation, from Jan 21 to Feb 7, there are about 23% cases were unreported."
   ]
  },
  {
   "cell_type": "code",
   "execution_count": 17,
   "metadata": {},
   "outputs": [
    {
     "data": {
      "image/png": "[encoded data removed]",
      "text/plain": [
       "<Figure size 720x360 with 1 Axes>"
      ]
     },
     "metadata": {},
     "output_type": "display_data"
    }
   ],
   "source": [
    "plt.figure(figsize=(10,5))\n",
    "plt.title('Confirmed and Modeled Infection')\n",
    "plt.bar(hubei_df.Date[:18], total_number_infection, alpha=.8, color='grey', label='model_infection')\n",
    "plt.bar(hubei_df.Date[:18], total_number_confirm, alpha=.5, color='red', label='confirmed')\n",
    "plt.xticks(rotation=90)\n",
    "plt.legend()\n",
    "plt.show()"
   ]
  },
  {
   "cell_type": "code",
   "execution_count": 18,
   "metadata": {},
   "outputs": [
    {
     "data": {
      "image/png": "[encoded data removed]",
      "text/plain": [
       "<Figure size 720x360 with 1 Axes>"
      ]
     },
     "metadata": {},
     "output_type": "display_data"
    }
   ],
   "source": [
    "plt.figure(figsize=(10,5))\n",
    "plt.title('% of under-reported cases with respect to the toatl number of modeled infection cases')\n",
    "plt.bar(hubei_df.Date[:18], under_report_pcnt)\n",
    "plt.xticks(rotation=90)\n",
    "plt.show()"
   ]
  },
  {
   "cell_type": "code",
   "execution_count": null,
   "metadata": {},
   "outputs": [],
   "source": []
  }
 ],
 "metadata": {
  "kernelspec": {
   "display_name": "Python 3",
   "language": "python",
   "name": "python3"
  },
  "language_info": {
   "codemirror_mode": {
    "name": "ipython",
    "version": 3
   },
   "file_extension": ".py",
   "mimetype": "text/x-python",
   "name": "python",
   "nbconvert_exporter": "python",
   "pygments_lexer": "ipython3",
   "version": "3.6.6"
  }
 },
 "nbformat": 4,
 "nbformat_minor": 4
}
